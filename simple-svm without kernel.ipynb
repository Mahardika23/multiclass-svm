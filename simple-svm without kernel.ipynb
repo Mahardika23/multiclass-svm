{
 "cells": [
  {
   "cell_type": "code",
   "execution_count": 113,
   "metadata": {},
   "outputs": [],
   "source": [
    "import numpy as np\n",
    "import random\n",
    "import numpy as np\n",
    "import matplotlib.pyplot as plt\n",
    "from sklearn import datasets\n",
    "\n",
    "class svm:\n",
    "    def __init__(self, learning_rate=0.001, lambda_param=0.01, n_iters=1000):\n",
    "        self.lr = learning_rate\n",
    "        self.lambda_param = lambda_param\n",
    "        self.n_iters = n_iters\n",
    "        self.w = None\n",
    "        self.b = None\n",
    "\n",
    "\n",
    "    def fit(self, X, y):\n",
    "        n_samples, n_features = X.shape\n",
    "        \n",
    "        y_ = np.where(y <= 0, -1, 1)\n",
    "        \n",
    "        self.w = np.zeros(n_features)\n",
    "        self.b = 0\n",
    "\n",
    "        for _ in range(self.n_iters):\n",
    "            for idx, x_i in enumerate(X):\n",
    "                condition = y_[idx] * (np.dot(x_i, self.w) - self.b) >= 1\n",
    "                if condition:\n",
    "                    self.w -= self.lr * (2 * self.lambda_param * self.w)\n",
    "                else:\n",
    "                    self.w -= self.lr * (2 * self.lambda_param * self.w - np.dot(x_i, y_[idx]))\n",
    "                    self.b -= self.lr * y_[idx]\n",
    "\n",
    "\n",
    "    def predict(self, X):\n",
    "        approx = np.dot(X, self.w) - self.b\n",
    "        return (np.sign(approx),approx)"
   ]
  },
  {
   "cell_type": "code",
   "execution_count": null,
   "metadata": {},
   "outputs": [],
   "source": [
    "X = iris.data[:, 1:3]\n",
    "setosa = X[:50]\n",
    "print(setosa)\n",
    "versicolor = X[50:100]\n",
    "virginica = X[100:]\n",
    "\n",
    "random_setosa = random.choices(setosa,k=10)\n",
    "random_versicolor = random.choices(versicolor,k=10)\n",
    "random_virginica = random.choices(virginica,k=10)\n",
    "X = np.concatenate((random_setosa,random_virginica),axis=0)\n",
    "labels = []\n",
    "for _ in range(len(random_setosa)):\n",
    "    labels.append(1)\n",
    "for _ in range(len(random_versicolor)):\n",
    "    labels.append(-1)\n",
    "\n",
    "y = np.array(labels)\n",
    "clf = svm()\n",
    "clf.fit(X,y)\n",
    "print(clf.w, clf.b)\n",
    "clf.predict([3.5 , 1.4])\n"
   ]
  },
  {
   "cell_type": "code",
   "execution_count": 129,
   "metadata": {},
   "outputs": [],
   "source": [
    "def ovr(data1,datarest):\n",
    "    labels = []\n",
    "    for _ in data1:\n",
    "        labels.append(1)\n",
    "    for _ in datarest:\n",
    "        labels.append(-1)\n",
    "#     print(len(labels))\n",
    "    labels = np.array(labels)\n",
    "    join = np.concatenate((data1,datarest),axis=0)\n",
    "    clf = svm()    \n",
    "    clf.fit(join,labels)\n",
    "    \n",
    "    return clf\n",
    "\n",
    "    "
   ]
  },
  {
   "cell_type": "code",
   "execution_count": 130,
   "metadata": {},
   "outputs": [],
   "source": [
    "clf = ovr(X,random_versicolor)"
   ]
  },
  {
   "cell_type": "code",
   "execution_count": 131,
   "metadata": {},
   "outputs": [
    {
     "data": {
      "image/png": "[encoded data removed]",
      "text/plain": [
       "<Figure size 432x288 with 1 Axes>"
      ]
     },
     "metadata": {
      "needs_background": "light"
     },
     "output_type": "display_data"
    }
   ],
   "source": [
    "def visualize_svm():\n",
    "     def get_hyperplane_value(x, w, b, offset):\n",
    "          return (-w[0] * x + b + offset) / w[1]\n",
    "\n",
    "     fig = plt.figure()\n",
    "     ax = fig.add_subplot(1,1,1)\n",
    "     plt.scatter(X[:,0], X[:,1], marker='o',c=y)\n",
    "\n",
    "     x0_1 = np.amin(X[:,0])\n",
    "     x0_2 = np.amax(X[:,0])\n",
    "\n",
    "     x1_1 = get_hyperplane_value(x0_1, clf.w, clf.b, 0)\n",
    "     x1_2 = get_hyperplane_value(x0_2, clf.w, clf.b, 0)\n",
    "\n",
    "     x1_1_m = get_hyperplane_value(x0_1, clf.w, clf.b, -1)\n",
    "     x1_2_m = get_hyperplane_value(x0_2, clf.w, clf.b, -1)\n",
    "\n",
    "     x1_1_p = get_hyperplane_value(x0_1, clf.w, clf.b, 1)\n",
    "     x1_2_p = get_hyperplane_value(x0_2, clf.w, clf.b, 1)\n",
    "\n",
    "     ax.plot([x0_1, x0_2],[x1_1, x1_2], 'y--')\n",
    "     ax.plot([x0_1, x0_2],[x1_1_m, x1_2_m], 'k')\n",
    "     ax.plot([x0_1, x0_2],[x1_1_p, x1_2_p], 'k')\n",
    "\n",
    "     x1_min = np.amin(X[:,1])\n",
    "     x1_max = np.amax(X[:,1])\n",
    "     ax.set_ylim([x1_min-3,x1_max+3])\n",
    "\n",
    "     plt.show()\n",
    "\n",
    "visualize_svm()"
   ]
  },
  {
   "cell_type": "code",
   "execution_count": null,
   "metadata": {},
   "outputs": [],
   "source": []
  }
 ],
 "metadata": {
  "kernelspec": {
   "display_name": "Python 3",
   "language": "python",
   "name": "python3"
  },
  "language_info": {
   "codemirror_mode": {
    "name": "ipython",
    "version": 3
   },
   "file_extension": ".py",
   "mimetype": "text/x-python",
   "name": "python",
   "nbconvert_exporter": "python",
   "pygments_lexer": "ipython3",
   "version": "3.8.2"
  }
 },
 "nbformat": 4,
 "nbformat_minor": 4
}
