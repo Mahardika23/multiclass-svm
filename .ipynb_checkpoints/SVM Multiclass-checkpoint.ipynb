{
 "cells": [
  {
   "cell_type": "code",
   "execution_count": null,
   "metadata": {},
   "outputs": [],
   "source": [
    "import matplotlib.pyplot as plt\n",
    "from matplotlib import style\n",
    "from sklearn import datasets\n",
    "import numpy as np\n",
    "style.use('ggplot')\n",
    "\n",
    "class SVM :\n",
    "    def __init__(self, visualization = True):\n",
    "        self.visualization = visualization\n",
    "        self.colors = {1:'r', -1:'b'}\n",
    "        if self.visualization:\n",
    "            self.fig = plt.figure()\n",
    "            self.ax = self.fig.add_subplot(1,1,1)\n",
    "    def train(self, data):\n",
    "        self.data = data\n",
    "        \n",
    "        opt_dict = {}\n",
    "        transform = [[1,1],\n",
    "                    [1,-1],\n",
    "                    [-1,1],\n",
    "                    [-1,-1]]\n",
    "        \n",
    "        all_data = []\n",
    "        for yi in self.data:\n",
    "            for featureset in self.data[yi]:\n",
    "                for feature in featureset:\n",
    "                    all_data.append(feature)\n",
    "        \n",
    "        self.max_feature_value = max(all_data)\n",
    "        self.min_feature_value = min(all_data)\n",
    "        all_data = None\n",
    "        \n",
    "        step_sizes = [self.max_feature_value * 0.1,\n",
    "                      self.max_feature_value * 0.01,\n",
    "                      self.max_feature_value * 0.001]\n",
    "        \n",
    "        b_range_multiple = 5\n",
    "        b_multiple = 5\n",
    "        \n",
    "        latest_optimum = self.max_feature_value *10\n",
    "        \n",
    "        for step in step_sizes:\n",
    "            w = np.array([latest_optimum,latest_optimum])\n",
    "            optimized = False\n",
    "            \n",
    "            while not optimized:\n",
    "                for b in np.arange(-1*(self.max_feature_value *b_range_multiple)\n",
    "                                  ,self.max_feature_value*b_range_multiple, \n",
    "                                   step*b_multiple):\n",
    "                    for transformation in transform:\n",
    "                        w_t = w*transformation\n",
    "#                         print(w_t)\n",
    "                        found_opt = True\n",
    "                        for i in self.data:\n",
    "                            for xi in self.data[i]:\n",
    "                                yi = i\n",
    "                                if not yi*(np.dot(w_t,xi)+b) >= 1:\n",
    "                                    found_opt = False\n",
    "                        if found_opt:\n",
    "                            opt_dict[np.linalg.norm(w_t)] = [w_t,b]\n",
    "                if w[0] < 0:\n",
    "                    optimized = True\n",
    "                    print('Optimized a Step ...')\n",
    "                else:\n",
    "                    w = w - step\n",
    "            norms = sorted([n for n in opt_dict])\n",
    "\n",
    "\n",
    "            opt_choice = opt_dict[norms[0]]\n",
    "            \n",
    "            self.w = opt_choice[0]\n",
    "            self.b = opt_choice[1]\n",
    "            latest_optimum = opt_choice[0][0]+step*2\n",
    "    def classify(self, features):\n",
    "        #sign (x.w+b)\n",
    "        classification =np.sign(np.dot(np.array(features) , self.w) + self.b)\n",
    "        classification_val = np.dot(np.array(features) , self.w) + self.b\n",
    "        if classification != 0 and self.visualization:\n",
    "            self.ax.scatter(features[0],features[1],s=200,marker='*',c=self.colors[classification])\n",
    "    \n",
    "        return classification,classification_val\n",
    "    def visualize(self):\n",
    "        [[self.ax.scatter(x[0],x[1],s=100,color=self.colors[i]) for x in data_dict[i]] for i in data_dict]\n",
    "        # Hyperplane = x.w+b\\\n",
    "        # v = x.w+b\n",
    "        # v = x * ([w0][w1]) +b\n",
    "        # v-b\n",
    "        # positive support vector =1\n",
    "        # negative support vector = -1\n",
    "        # decision boundary (garis hyperplane pemisah) = 0\n",
    "        def hyperplane(x,w,b,v):\n",
    "            return (-w[0]*x-b +v)/w[1]\n",
    "        datarange = (self.min_feature_value*0.9, self.max_feature_value*1.1)\n",
    "        hyp_x_min = datarange[0]\n",
    "        hyp_x_max = datarange[1]\n",
    "        \n",
    "        dec1 = hyperplane(hyp_x_min,self.w,self.b,0)\n",
    "        dec2 = hyperplane(hyp_x_max,self.w,self.b,0)\n",
    "        self.ax.plot([hyp_x_min,hyp_x_max],[dec1,dec2], 'y--')\n",
    "        \n",
    "        plt.show()\n",
    "   "
   ]
  },
  {
   "cell_type": "code",
   "execution_count": null,
   "metadata": {},
   "outputs": [],
   "source": [
    "import random\n",
    "\n",
    "iris = datasets.load_iris()\n",
    "X = iris.data[:,2:4]\n",
    "# print(x)\n",
    "y = iris.target\n",
    "setosa = X[:50]\n",
    "versicolor = X[50:100]\n",
    "virginica = X[100:]\n",
    "\n",
    "random_setosa = random.choices(setosa,k=10)\n",
    "random_versicolor = random.choices(versicolor,k=10)\n",
    "random_virginica = random.choices(virginica,k=10)\n",
    "X = np.concatenate((random_setosa,random_virginica),axis=0)\n",
    "\n",
    "group1 = iris_setosa + iris_virginica\n",
    "print(group1)"
   ]
  },
  {
   "cell_type": "code",
   "execution_count": null,
   "metadata": {},
   "outputs": [],
   "source": [
    "data_dict1 = {-1:np.array(random_setosa),\n",
    "             1:np.array(random_versicolor)}\n",
    "svm = SVM()\n",
    "svm.train(data = data_dict1)\n",
    "svm.visualize()"
   ]
  },
  {
   "cell_type": "code",
   "execution_count": 12,
   "metadata": {},
   "outputs": [
    {
     "name": "stdout",
     "output_type": "stream",
     "text": [
      "(1.0, 0.7755000000021193)\n"
     ]
    }
   ],
   "source": [
    "predict = svm.classify(x[61])\n",
    "print(predict)"
   ]
  },
  {
   "cell_type": "code",
   "execution_count": 123,
   "metadata": {},
   "outputs": [
    {
     "data": {
      "image/png": "[encoded data removed]",
      "text/plain": [
       "<Figure size 432x288 with 1 Axes>"
      ]
     },
     "metadata": {},
     "output_type": "display_data"
    }
   ],
   "source": [
    "z = iris.data\n",
    "for i,data in enumerate(iris.data): \n",
    "    plt.scatter(data[0],data[1],s=100)"
   ]
  },
  {
   "cell_type": "code",
   "execution_count": null,
   "metadata": {},
   "outputs": [],
   "source": [
    "    "
   ]
  }
 ],
 "metadata": {
  "kernelspec": {
   "display_name": "Python 3",
   "language": "python",
   "name": "python3"
  }
 },
 "nbformat": 4,
 "nbformat_minor": 4
}
